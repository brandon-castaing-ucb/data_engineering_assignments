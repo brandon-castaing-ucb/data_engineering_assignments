{
 "cells": [
  {
   "cell_type": "code",
   "execution_count": 17,
   "metadata": {},
   "outputs": [],
   "source": [
    "import pandas as pd\n",
    "import matplotlib.pyplot as plt\n",
    "%matplotlib inline"
   ]
  },
  {
   "cell_type": "code",
   "execution_count": 30,
   "metadata": {},
   "outputs": [
    {
     "name": "stdout",
     "output_type": "stream",
     "text": [
      "Waiting on bqjob_r761a5feefa7f0de7_00000168cb8e7f6e_1 ... (1s) Current status: DONE   "
     ]
    }
   ],
   "source": [
    "! bq query --use_legacy_sql=FALSE --format=csv 'SELECT count(end_station_name) as bike_count, end_station_name FROM `bigquery-public-data.san_francisco.bikeshare_trips` where TIME(start_date) < \"10:00:00\" and TIME(start_date) > \"7:00:00\" group by end_station_name order by bike_count desc limit 5' > common_destinations.csv"
   ]
  },
  {
   "cell_type": "code",
   "execution_count": 33,
   "metadata": {},
   "outputs": [
    {
     "name": "stdout",
     "output_type": "stream",
     "text": [
      "   bike_count                          end_station_name\n",
      "0       20799  San Francisco Caltrain (Townsend at 4th)\n",
      "1       17603                           2nd at Townsend\n",
      "2       17034                           Townsend at 7th\n",
      "3       13396                         Market at Sansome\n",
      "4       12916                    Embarcadero at Sansome\n"
     ]
    }
   ],
   "source": [
    "common_commuter_trip_destinations=pd.read_csv('common_destinations.csv')\n",
    "print(common_commuter_trip_destinations)"
   ]
  },
  {
   "cell_type": "markdown",
   "metadata": {},
   "source": [
    "# Recommendation 1\n",
    "I recommend we offer commuter customers a loyalty program, especially riders who frequently are heading to the top 5 most popular commuter destinations as seen above.  The loyalty program would insentivise our most valuable customers to continue riding with our Ford GoBike regularly into the future."
   ]
  },
  {
   "cell_type": "code",
   "execution_count": 39,
   "metadata": {},
   "outputs": [
    {
     "name": "stdout",
     "output_type": "stream",
     "text": [
      "Waiting on bqjob_r5e29c79dab6d9516_00000168cb9603fb_1 ... (0s) Current status: DONE   "
     ]
    }
   ],
   "source": [
    "! bq query --use_legacy_sql=FALSE --format=csv 'SELECT zip_code, COUNT(*) as count FROM `bigquery-public-data.san_francisco.bikeshare_trips` group by zip_code order by count desc limit 5;' > popular_starting_zones.csv"
   ]
  },
  {
   "cell_type": "code",
   "execution_count": 40,
   "metadata": {},
   "outputs": [
    {
     "name": "stdout",
     "output_type": "stream",
     "text": [
      "   zip_code   count\n",
      "0     94107  106913\n",
      "1     94105   61232\n",
      "2     94133   46544\n",
      "3     94103   38072\n",
      "4     94111   33642\n"
     ]
    }
   ],
   "source": [
    "popular_starting_zones=pd.read_csv('popular_starting_zones.csv')\n",
    "print(popular_starting_zones)"
   ]
  },
  {
   "cell_type": "markdown",
   "metadata": {},
   "source": [
    "# Recommendation \n",
    "I recommend we start a referral program through our mobile application to target current riders in our most popular zip codes as seen above to help attract similar customers to Ford GoBike."
   ]
  },
  {
   "cell_type": "code",
   "execution_count": 43,
   "metadata": {},
   "outputs": [
    {
     "name": "stdout",
     "output_type": "stream",
     "text": [
      "\r",
      "Waiting on bqjob_r56825cadf47cd734_00000168cb9b1f1b_1 ... (0s) Current status: DONE   "
     ]
    }
   ],
   "source": [
    "! bq query --use_legacy_sql=false 'SELECT TIME_TRUNC(TIME(start_date), HOUR), count(TIME_TRUNC(TIME(start_date), HOUR)) as count FROM `bigquery-public-data.san_francisco.bikeshare_trips` group by TIME_TRUNC(TIME(start_date), HOUR) order by count desc;' > popular_starting_times.csv"
   ]
  },
  {
   "cell_type": "code",
   "execution_count": 44,
   "metadata": {},
   "outputs": [
    {
     "name": "stdout",
     "output_type": "stream",
     "text": [
      "    +----------+--------+\n",
      "0   |   f0_    | count  |\n",
      "1   +----------+--------+\n",
      "2   | 08:00:00 | 132464 |\n",
      "3   | 17:00:00 | 126302 |\n",
      "4   | 09:00:00 |  96118 |\n",
      "5   | 16:00:00 |  88755 |\n",
      "6   | 18:00:00 |  84569 |\n",
      "7   | 07:00:00 |  67531 |\n",
      "8   | 15:00:00 |  47626 |\n",
      "9   | 12:00:00 |  46950 |\n",
      "10  | 13:00:00 |  43714 |\n",
      "11  | 10:00:00 |  42782 |\n",
      "12  | 19:00:00 |  41071 |\n",
      "13  | 11:00:00 |  40407 |\n",
      "14  | 14:00:00 |  37852 |\n",
      "15  | 20:00:00 |  22747 |\n",
      "16  | 06:00:00 |  20519 |\n",
      "17  | 21:00:00 |  15258 |\n",
      "18  | 22:00:00 |  10270 |\n",
      "19  | 23:00:00 |   6195 |\n",
      "20  | 05:00:00 |   5098 |\n",
      "21  | 00:00:00 |   2929 |\n",
      "22  | 01:00:00 |   1611 |\n",
      "23  | 04:00:00 |   1398 |\n",
      "24  | 02:00:00 |    877 |\n",
      "25  | 03:00:00 |    605 |\n",
      "26  +----------+--------+\n"
     ]
    }
   ],
   "source": [
    "popular_starting_times=pd.read_csv('popular_starting_times.csv')\n",
    "print(popular_starting_times)"
   ]
  },
  {
   "cell_type": "markdown",
   "metadata": {},
   "source": [
    "# Recommendation 3\n",
    "My final recommendation is that we incentivize customers to start their bike trips earlier/later than the most popular morning and evening hours of 8am and 5pm PST respectively.  This incentive, likely a discount or local coupon, would help spread the large influx of bike users during these peak hours."
   ]
  },
  {
   "cell_type": "code",
   "execution_count": null,
   "metadata": {},
   "outputs": [],
   "source": []
  }
 ],
 "metadata": {
  "kernelspec": {
   "display_name": "Python 3",
   "language": "python",
   "name": "python3"
  },
  "language_info": {
   "codemirror_mode": {
    "name": "ipython",
    "version": 3
   },
   "file_extension": ".py",
   "mimetype": "text/x-python",
   "name": "python",
   "nbconvert_exporter": "python",
   "pygments_lexer": "ipython3",
   "version": "3.5.2"
  }
 },
 "nbformat": 4,
 "nbformat_minor": 2
}
