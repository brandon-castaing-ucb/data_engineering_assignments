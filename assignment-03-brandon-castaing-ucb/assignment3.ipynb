{
 "cells": [
  {
   "cell_type": "markdown",
   "metadata": {},
   "source": [
    "# Queries\n",
    "Rerun last week's queries using bq command line tool (Paste your bq queries):     \n",
    "What's the size of this dataset? (i.e., how many trips)"
   ]
  },
  {
   "cell_type": "code",
   "execution_count": 3,
   "metadata": {},
   "outputs": [
    {
     "name": "stdout",
     "output_type": "stream",
     "text": [
      "Waiting on bqjob_r46cd78ac0df26edf_000001689cae5fff_1 ... (0s) Current status: DONE   \n",
      "+-----------+\n",
      "|    f0_    |\n",
      "+-----------+\n",
      "| 107501619 |\n",
      "+-----------+\n"
     ]
    }
   ],
   "source": [
    "! bq query --use_legacy_sql=false 'SELECT count(*) FROM `bigquery-public-data.san_francisco.bikeshare_status`'"
   ]
  },
  {
   "cell_type": "markdown",
   "metadata": {},
   "source": [
    "What is the earliest start time and latest end time for a trip?"
   ]
  },
  {
   "cell_type": "code",
   "execution_count": 6,
   "metadata": {},
   "outputs": [
    {
     "name": "stdout",
     "output_type": "stream",
     "text": [
      "Waiting on bqjob_r57ddeab8cbc293cf_000001689cb0935c_1 ... (0s) Current status: DONE   \n",
      "+---------------------+---------------------+\n",
      "|         f0_         |         f1_         |\n",
      "+---------------------+---------------------+\n",
      "| 2013-08-29 09:08:00 | 2016-08-31 23:48:00 |\n",
      "+---------------------+---------------------+\n"
     ]
    }
   ],
   "source": [
    "! bq query --use_legacy_sql=false 'SELECT min(start_date), max(end_date) FROM `bigquery-public-data.san_francisco.bikeshare_trips`'"
   ]
  },
  {
   "cell_type": "markdown",
   "metadata": {},
   "source": [
    "How many bikes are there?"
   ]
  },
  {
   "cell_type": "code",
   "execution_count": 5,
   "metadata": {},
   "outputs": [
    {
     "name": "stdout",
     "output_type": "stream",
     "text": [
      "Waiting on bqjob_r61738775c3912939_000001689cb07025_1 ... (0s) Current status: DONE   \n",
      "+-----+\n",
      "| f0_ |\n",
      "+-----+\n",
      "| 700 |\n",
      "+-----+\n"
     ]
    }
   ],
   "source": [
    "! bq query --use_legacy_sql=false 'SELECT COUNT(distinct bike_number) FROM `bigquery-public-data.san_francisco.bikeshare_trips`'"
   ]
  },
  {
   "cell_type": "markdown",
   "metadata": {},
   "source": [
    "New Query (Paste your SQL query and answer the question in a sentence):\n",
    "How many trips are in the morning vs in the afternoon?"
   ]
  },
  {
   "cell_type": "code",
   "execution_count": 10,
   "metadata": {},
   "outputs": [
    {
     "name": "stdout",
     "output_type": "stream",
     "text": [
      "Waiting on bqjob_r8f514030b8e1e1c_000001689cba392e_1 ... (0s) Current status: DONE   \n",
      "+---------------+\n",
      "| morning_trips |\n",
      "+---------------+\n",
      "|        412339 |\n",
      "+---------------+\n",
      "Waiting on bqjob_r7daf6422772b629_000001689cba497a_1 ... (0s) Current status: DONE   \n",
      "+-----------------+\n",
      "| afternoon_trips |\n",
      "+-----------------+\n",
      "|          570556 |\n",
      "+-----------------+\n"
     ]
    }
   ],
   "source": [
    "! bq query --use_legacy_sql=false 'SELECT count(start_date) as morning_trips FROM `bigquery-public-data.san_francisco.bikeshare_trips` where TIME(start_date) < \"12:00:00\"'\n",
    "! bq query --use_legacy_sql=false 'SELECT count(start_date) as afternoon_trips FROM `bigquery-public-data.san_francisco.bikeshare_trips` where TIME(start_date) > \"12:00:00\"'"
   ]
  },
  {
   "cell_type": "markdown",
   "metadata": {},
   "source": [
    "There are 412,339 bike trips in the morning and 570,556 bike trips in the afternoon."
   ]
  },
  {
   "cell_type": "markdown",
   "metadata": {},
   "source": [
    "# Project Questions\n",
    "Identify the main questions you'll need to answer to make recommendations (list below, add as many questions as you need).\n",
    "\n",
    "Question 1: What end station is the most common for bikes to finish their trip?  How many?\n",
    "\n",
    "Question 2: What starting station is the most common for bikes to begin their trip?  How many?\n",
    "\n",
    "Question 3: Which zipcode is the most popular for bike sharing?  How many?\n",
    "\n",
    "Question 4: What time/hour of the day do most bike trips start?\n",
    "\n",
    "Question 5: What percentage of our bikes are being used in the morning?"
   ]
  },
  {
   "cell_type": "markdown",
   "metadata": {},
   "source": [
    "# Answers\n",
    "Answer at least 4 of the questions you identified above You can use either BigQuery or the bq command line tool. Paste your questions, queries and answers below.\n",
    "\n",
    "Question 1: What end station is the most common for bikes to finish their trip?  How many?\n",
    "\n",
    "Answer: San Francisco Caltrain (Townsend at 4th) - 92,014 trips"
   ]
  },
  {
   "cell_type": "code",
   "execution_count": 12,
   "metadata": {},
   "outputs": [
    {
     "name": "stdout",
     "output_type": "stream",
     "text": [
      "Waiting on bqjob_r556f72706c54f455_000001689cd972ae_1 ... (0s) Current status: DONE   \n",
      "+-------+-----------------------------------------------+\n",
      "|  f0_  |               end_station_name                |\n",
      "+-------+-----------------------------------------------+\n",
      "| 92014 | San Francisco Caltrain (Townsend at 4th)      |\n",
      "| 58713 | San Francisco Caltrain 2 (330 Townsend)       |\n",
      "| 50185 | Harry Bridges Plaza (Ferry Building)          |\n",
      "| 46197 | Embarcadero at Sansome                        |\n",
      "| 44145 | 2nd at Townsend                               |\n",
      "| 40956 | Market at Sansome                             |\n",
      "| 39598 | Steuart at Market                             |\n",
      "| 38545 | Townsend at 7th                               |\n",
      "| 35477 | Temporary Transbay Terminal (Howard at Beale) |\n",
      "| 26762 | Market at 4th                                 |\n",
      "| 26746 | Powell Street BART                            |\n",
      "| 25910 | Market at 10th                                |\n",
      "| 23895 | 2nd at South Park                             |\n",
      "| 21615 | Howard at 2nd                                 |\n",
      "| 21297 | Embarcadero at Folsom                         |\n",
      "| 21162 | 5th at Howard                                 |\n",
      "| 19454 | Embarcadero at Bryant                         |\n",
      "| 18999 | Civic Center BART (7th at Market)             |\n",
      "| 18005 | Beale at Market                               |\n",
      "| 17724 | Mechanics Plaza (Market at Battery)           |\n",
      "| 17620 | Embarcadero at Vallejo                        |\n",
      "| 16697 | Spear at Folsom                               |\n",
      "| 16393 | Commercial at Montgomery                      |\n",
      "| 16299 | Davis at Jackson                              |\n",
      "| 16108 | Yerba Buena Center of the Arts (3rd @ Howard) |\n",
      "| 15803 | South Van Ness at Market                      |\n",
      "| 14196 | Clay at Battery                               |\n",
      "| 14095 | Broadway St at Battery St                     |\n",
      "| 13929 | 2nd at Folsom                                 |\n",
      "| 13315 | San Jose Diridon Caltrain Station             |\n",
      "| 12846 | Grant Avenue at Columbus Avenue               |\n",
      "| 11805 | Powell at Post (Union Square)                 |\n",
      "| 11201 | Post at Kearny                                |\n",
      "|  9231 | Mountain View Caltrain Station                |\n",
      "|  8654 | Washington at Kearny                          |\n",
      "|  8617 | Golden Gate at Polk                           |\n",
      "|  5269 | San Francisco City Hall                       |\n",
      "|  5158 | Santa Clara at Almaden                        |\n",
      "|  4651 | Mountain View City Hall                       |\n",
      "|  4469 | San Pedro Square                              |\n",
      "|  3434 | Paseo de San Antonio                          |\n",
      "|  3133 | MLK Library                                   |\n",
      "|  3106 | Japantown                                     |\n",
      "|  2847 | Palo Alto Caltrain Station                    |\n",
      "|  2735 | Castro Street and El Camino Real              |\n",
      "|  2621 | San Antonio Caltrain Station                  |\n",
      "|  2440 | San Antonio Shopping Center                   |\n",
      "|  2433 | San Jose Civic Center                         |\n",
      "|  2384 | Ryland Park                                   |\n",
      "|  2351 | University and Emerson                        |\n",
      "|  2310 | Post at Kearney                               |\n",
      "|  2307 | San Salvador at 1st                           |\n",
      "|  2147 | St James Park                                 |\n",
      "|  2109 | San Jose City Hall                            |\n",
      "|  1929 | Adobe on Almaden                              |\n",
      "|  1920 | SJSU - San Salvador at 9th                    |\n",
      "|  1908 | Arena Green / SAP Center                      |\n",
      "|  1888 | Cowper at University                          |\n",
      "|  1870 | Redwood City Caltrain Station                 |\n",
      "|  1807 | SJSU 4th at San Carlos                        |\n",
      "|  1772 | Washington at Kearney                         |\n",
      "|  1764 | California Ave Caltrain Station               |\n",
      "|  1446 | Evelyn Park and Ride                          |\n",
      "|  1159 | Santa Clara County Civic Center               |\n",
      "|  1123 | Rengstorff Avenue / California Street         |\n",
      "|  1073 | Park at Olive                                 |\n",
      "|   917 | Stanford in Redwood City                      |\n",
      "|   464 | Redwood City Medical Center                   |\n",
      "|   454 | San Mateo County Center                       |\n",
      "|   367 | Charleston Park/ North Bayshore Area          |\n",
      "|   344 | Redwood City Public Library                   |\n",
      "|   287 | Mezes Park                                    |\n",
      "|   264 | Franklin at Maple                             |\n",
      "|   151 | 5th St at Folsom St                           |\n",
      "|   114 | Mezes                                         |\n",
      "|   108 | Kaiser Hospital                               |\n",
      "|   103 | S. Market St at Park Ave                      |\n",
      "|    93 | Middlefield Light Rail Station                |\n",
      "|    81 | Broadway at Main                              |\n",
      "|    68 | Cyril Magnin St at Ellis St                   |\n",
      "|    24 | 5th S at E. San Salvador St                   |\n",
      "|    23 | San Jose Government Center                    |\n",
      "|    14 | Sequoia Hospital                              |\n",
      "|     1 | 5th St at E. San Salvador St                  |\n",
      "+-------+-----------------------------------------------+\n"
     ]
    }
   ],
   "source": [
    "! bq query --use_legacy_sql=false 'SELECT count(end_station_name) as count, end_station_name FROM `bigquery-public-data.san_francisco.bikeshare_trips` group by end_station_name order by count desc'"
   ]
  },
  {
   "cell_type": "markdown",
   "metadata": {},
   "source": [
    "Question 2: What starting station is the most common for bikes to begin their trip?  How many?\n",
    "\n",
    "Answer: San Francisco Caltrain (Townsend at 4th) - 72,683 trips"
   ]
  },
  {
   "cell_type": "code",
   "execution_count": 11,
   "metadata": {},
   "outputs": [
    {
     "name": "stdout",
     "output_type": "stream",
     "text": [
      "Waiting on bqjob_r3fcee7ba1e194d50_000001689cd94161_1 ... (0s) Current status: DONE   \n",
      "+-------+-----------------------------------------------+\n",
      "|  f0_  |              start_station_name               |\n",
      "+-------+-----------------------------------------------+\n",
      "| 72683 | San Francisco Caltrain (Townsend at 4th)      |\n",
      "| 56100 | San Francisco Caltrain 2 (330 Townsend)       |\n",
      "| 49062 | Harry Bridges Plaza (Ferry Building)          |\n",
      "| 41137 | Embarcadero at Sansome                        |\n",
      "| 39936 | 2nd at Townsend                               |\n",
      "| 39200 | Temporary Transbay Terminal (Howard at Beale) |\n",
      "| 38531 | Steuart at Market                             |\n",
      "| 35142 | Market at Sansome                             |\n",
      "| 34894 | Townsend at 7th                               |\n",
      "| 30209 | Market at 10th                                |\n",
      "| 27502 | Market at 4th                                 |\n",
      "| 26218 | 2nd at South Park                             |\n",
      "| 25204 | Powell Street BART                            |\n",
      "| 23404 | 2nd at Folsom                                 |\n",
      "| 23082 | Beale at Market                               |\n",
      "| 23041 | Grant Avenue at Columbus Avenue               |\n",
      "| 22525 | Embarcadero at Bryant                         |\n",
      "| 21874 | Embarcadero at Folsom                         |\n",
      "| 20746 | Howard at 2nd                                 |\n",
      "| 19145 | Civic Center BART (7th at Market)             |\n",
      "| 18962 | 5th at Howard                                 |\n",
      "| 18278 | South Van Ness at Market                      |\n",
      "| 17837 | Mechanics Plaza (Market at Battery)           |\n",
      "| 17062 | Spear at Folsom                               |\n",
      "| 16984 | Powell at Post (Union Square)                 |\n",
      "| 16857 | Commercial at Montgomery                      |\n",
      "| 16005 | Broadway St at Battery St                     |\n",
      "| 15302 | Embarcadero at Vallejo                        |\n",
      "| 15197 | Davis at Jackson                              |\n",
      "| 14711 | Yerba Buena Center of the Arts (3rd @ Howard) |\n",
      "| 14351 | Clay at Battery                               |\n",
      "| 13593 | San Jose Diridon Caltrain Station             |\n",
      "| 11308 | Post at Kearny                                |\n",
      "| 10651 | Golden Gate at Polk                           |\n",
      "|  9059 | Mountain View Caltrain Station                |\n",
      "|  7136 | Washington at Kearny                          |\n",
      "|  6730 | San Francisco City Hall                       |\n",
      "|  5308 | Santa Clara at Almaden                        |\n",
      "|  4275 | Mountain View City Hall                       |\n",
      "|  4132 | San Pedro Square                              |\n",
      "|  3281 | Palo Alto Caltrain Station                    |\n",
      "|  3066 | Paseo de San Antonio                          |\n",
      "|  3049 | Castro Street and El Camino Real              |\n",
      "|  2911 | San Jose City Hall                            |\n",
      "|  2855 | Japantown                                     |\n",
      "|  2664 | MLK Library                                   |\n",
      "|  2626 | Ryland Park                                   |\n",
      "|  2601 | San Antonio Caltrain Station                  |\n",
      "|  2503 | Post at Kearney                               |\n",
      "|  2377 | San Antonio Shopping Center                   |\n",
      "|  2374 | St James Park                                 |\n",
      "|  2249 | Redwood City Caltrain Station                 |\n",
      "|  2232 | San Salvador at 1st                           |\n",
      "|  2162 | Cowper at University                          |\n",
      "|  2137 | San Jose Civic Center                         |\n",
      "|  2046 | Adobe on Almaden                              |\n",
      "|  2043 | Arena Green / SAP Center                      |\n",
      "|  2002 | University and Emerson                        |\n",
      "|  1954 | SJSU - San Salvador at 9th                    |\n",
      "|  1738 | Evelyn Park and Ride                          |\n",
      "|  1533 | SJSU 4th at San Carlos                        |\n",
      "|  1472 | Washington at Kearney                         |\n",
      "|  1418 | California Ave Caltrain Station               |\n",
      "|  1260 | Santa Clara County Civic Center               |\n",
      "|  1171 | Rengstorff Avenue / California Street         |\n",
      "|  1026 | Park at Olive                                 |\n",
      "|   864 | Stanford in Redwood City                      |\n",
      "|   373 | San Mateo County Center                       |\n",
      "|   348 | Mezes Park                                    |\n",
      "|   343 | Charleston Park/ North Bayshore Area          |\n",
      "|   316 | Redwood City Medical Center                   |\n",
      "|   272 | Redwood City Public Library                   |\n",
      "|   226 | Franklin at Maple                             |\n",
      "|   173 | 5th St at Folsom St                           |\n",
      "|   147 | Kaiser Hospital                               |\n",
      "|   119 | Mezes                                         |\n",
      "|    84 | S. Market St at Park Ave                      |\n",
      "|    69 | Cyril Magnin St at Ellis St                   |\n",
      "|    67 | Broadway at Main                              |\n",
      "|    66 | Middlefield Light Rail Station                |\n",
      "|    23 | San Jose Government Center                    |\n",
      "|    19 | 5th S at E. San Salvador St                   |\n",
      "|    15 | Sequoia Hospital                              |\n",
      "|     1 | 5th St at E. San Salvador St                  |\n",
      "+-------+-----------------------------------------------+\n"
     ]
    }
   ],
   "source": [
    "! bq query --use_legacy_sql=false 'SELECT count(start_station_name) as count, start_station_name FROM `bigquery-public-data.san_francisco.bikeshare_trips` group by start_station_name order by count desc'"
   ]
  },
  {
   "cell_type": "markdown",
   "metadata": {},
   "source": [
    "Question 3: Which zipcode is the most popular for bike sharing?  How many?\n",
    "\n",
    "Answer: 94107 - 106,913 trips"
   ]
  },
  {
   "cell_type": "code",
   "execution_count": 13,
   "metadata": {},
   "outputs": [
    {
     "name": "stdout",
     "output_type": "stream",
     "text": [
      "Waiting on bqjob_r5d346b9a4eafc743_000001689cdaccb8_1 ... (0s) Current status: DONE   \n",
      "+----------+--------+\n",
      "| zip_code | count  |\n",
      "+----------+--------+\n",
      "| 94107    | 106913 |\n",
      "| 94105    |  61232 |\n",
      "| 94133    |  46544 |\n",
      "| 94103    |  38072 |\n",
      "| 94111    |  33642 |\n",
      "| 94102    |  30222 |\n",
      "| 94109    |  19043 |\n",
      "| 95112    |  15420 |\n",
      "| nil      |  15385 |\n",
      "| 94158    |  13673 |\n",
      "| 94611    |  13198 |\n",
      "| 94117    |  12549 |\n",
      "| 94403    |  10934 |\n",
      "| 94602    |  10926 |\n",
      "| 94610    |  10628 |\n",
      "| 94110    |  10446 |\n",
      "| 94040    |  10276 |\n",
      "| 94501    |  10179 |\n",
      "| 94114    |   9544 |\n",
      "| 94025    |   9452 |\n",
      "| 94010    |   9251 |\n",
      "| 94108    |   9064 |\n",
      "| 95110    |   8688 |\n",
      "| 94070    |   8397 |\n",
      "| 94041    |   7716 |\n",
      "| 94608    |   7670 |\n",
      "| 94404    |   7268 |\n",
      "| 94087    |   7014 |\n",
      "| 95113    |   6950 |\n",
      "| 94402    |   6941 |\n",
      "| 94002    |   6808 |\n",
      "|          |   6803 |\n",
      "| 94306    |   6709 |\n",
      "| 94301    |   6493 |\n",
      "| 94401    |   6473 |\n",
      "| 94122    |   6295 |\n",
      "| 94303    |   6145 |\n",
      "| 94062    |   5749 |\n",
      "| 94115    |   5748 |\n",
      "| 94609    |   5698 |\n",
      "| 94118    |   5563 |\n",
      "| 94112    |   5352 |\n",
      "| 94086    |   5248 |\n",
      "| 94061    |   5246 |\n",
      "| 94131    |   5073 |\n",
      "| 94903    |   5019 |\n",
      "| 94618    |   4922 |\n",
      "| 95014    |   4887 |\n",
      "| 94043    |   4868 |\n",
      "| 94612    |   4543 |\n",
      "| 94030    |   4484 |\n",
      "| 94941    |   4451 |\n",
      "| 95126    |   4318 |\n",
      "| 94104    |   4278 |\n",
      "| 94549    |   3938 |\n",
      "| 95051    |   3930 |\n",
      "| 94703    |   3870 |\n",
      "| 94901    |   3721 |\n",
      "| 94705    |   3720 |\n",
      "| 94063    |   3667 |\n",
      "| 94960    |   3617 |\n",
      "| 94065    |   3560 |\n",
      "| 94121    |   3544 |\n",
      "| 94702    |   3458 |\n",
      "| 94066    |   3211 |\n",
      "| 94116    |   3091 |\n",
      "| 94123    |   2908 |\n",
      "| 94706    |   2788 |\n",
      "| 94920    |   2612 |\n",
      "| 95129    |   2570 |\n",
      "| 94606    |   2533 |\n",
      "| 94024    |   2486 |\n",
      "| 94707    |   2420 |\n",
      "| 94904    |   2405 |\n",
      "| 94530    |   2347 |\n",
      "| 94124    |   2306 |\n",
      "| 94925    |   2295 |\n",
      "| 94597    |   2272 |\n",
      "| 94044    |   2264 |\n",
      "| 94607    |   2260 |\n",
      "| 94590    |   2254 |\n",
      "| 94708    |   2244 |\n",
      "| 94588    |   2215 |\n",
      "| 94558    |   2203 |\n",
      "| 94132    |   2198 |\n",
      "| 94704    |   2189 |\n",
      "| 94022    |   2181 |\n",
      "| 94127    |   2166 |\n",
      "| 94710    |   2166 |\n",
      "| 94510    |   2068 |\n",
      "| 94939    |   2044 |\n",
      "| 95130    |   2029 |\n",
      "| 95008    |   2003 |\n",
      "| 95050    |   1965 |\n",
      "| 94080    |   1909 |\n",
      "| 94085    |   1841 |\n",
      "| 95054    |   1836 |\n",
      "| 94965    |   1726 |\n",
      "| 95125    |   1697 |\n",
      "| 94568    |   1663 |\n",
      "+----------+--------+\n"
     ]
    }
   ],
   "source": [
    "! bq query --use_legacy_sql=false 'SELECT zip_code, COUNT(*) as count FROM `bigquery-public-data.san_francisco.bikeshare_trips` group by zip_code order by count desc;'"
   ]
  },
  {
   "cell_type": "markdown",
   "metadata": {},
   "source": [
    "Question 4: What time/hour of the day do most bike trips start?\n",
    "\n",
    "Answer: 8 UTC - 132,464 trips\n",
    "Note, this is an odd value since this would be 12am PST... Perhaps an "
   ]
  },
  {
   "cell_type": "code",
   "execution_count": 14,
   "metadata": {},
   "outputs": [
    {
     "name": "stdout",
     "output_type": "stream",
     "text": [
      "Waiting on bqjob_r3c9d095570050dbb_000001689ce95f28_1 ... (1s) Current status: DONE   \n",
      "+----------+--------+\n",
      "|   f0_    | count  |\n",
      "+----------+--------+\n",
      "| 08:00:00 | 132464 |\n",
      "| 17:00:00 | 126302 |\n",
      "| 09:00:00 |  96118 |\n",
      "| 16:00:00 |  88755 |\n",
      "| 18:00:00 |  84569 |\n",
      "| 07:00:00 |  67531 |\n",
      "| 15:00:00 |  47626 |\n",
      "| 12:00:00 |  46950 |\n",
      "| 13:00:00 |  43714 |\n",
      "| 10:00:00 |  42782 |\n",
      "| 19:00:00 |  41071 |\n",
      "| 11:00:00 |  40407 |\n",
      "| 14:00:00 |  37852 |\n",
      "| 20:00:00 |  22747 |\n",
      "| 06:00:00 |  20519 |\n",
      "| 21:00:00 |  15258 |\n",
      "| 22:00:00 |  10270 |\n",
      "| 23:00:00 |   6195 |\n",
      "| 05:00:00 |   5098 |\n",
      "| 00:00:00 |   2929 |\n",
      "| 01:00:00 |   1611 |\n",
      "| 04:00:00 |   1398 |\n",
      "| 02:00:00 |    877 |\n",
      "| 03:00:00 |    605 |\n",
      "+----------+--------+\n"
     ]
    }
   ],
   "source": [
    "! bq query --use_legacy_sql=false 'SELECT TIME_TRUNC(TIME(start_date), HOUR), count(TIME_TRUNC(TIME(start_date), HOUR)) as count FROM `bigquery-public-data.san_francisco.bikeshare_trips` group by TIME_TRUNC(TIME(start_date), HOUR) order by count desc;'"
   ]
  },
  {
   "cell_type": "code",
   "execution_count": null,
   "metadata": {},
   "outputs": [],
   "source": []
  }
 ],
 "metadata": {
  "kernelspec": {
   "display_name": "Python 3",
   "language": "python",
   "name": "python3"
  },
  "language_info": {
   "codemirror_mode": {
    "name": "ipython",
    "version": 3
   },
   "file_extension": ".py",
   "mimetype": "text/x-python",
   "name": "python",
   "nbconvert_exporter": "python",
   "pygments_lexer": "ipython3",
   "version": "3.5.2"
  }
 },
 "nbformat": 4,
 "nbformat_minor": 2
}
